{
 "cells": [
  {
   "cell_type": "markdown",
   "metadata": {},
   "source": [
    "# Yelp API - Lab\n",
    "\n",
    "\n",
    "## Introduction \n",
    "\n",
    "Now that we've seen how the Yelp API works and some basic Folium visualizations, it's time to put those skills to work in order to create a working map! Taking things a step further, you'll also independently explore how to perform pagination in order to retrieve a full results set from the Yelp API!\n",
    "\n",
    "## Objectives\n",
    "\n",
    "You will be able to: \n",
    "* Create HTTP requests to get data from Yelp API\n",
    "* Parse HTTP responses and perform data analysis on the data returned\n",
    "* Perform pagination to retrieve troves of data!\n",
    "* Create a simple geographical system on to view information about selected businesses, at a given location. \n",
    "\n",
    "## Problem Introduction\n",
    "\n",
    "You've now worked with some API calls, but we have yet to see how to retrieve a more complete dataset in a programmatic manner. Returning to the Yelp API, the [documentation](https://www.yelp.com/developers/documentation/v3/business_search) also provides us details regarding the API limits. These often include details about the number of requests a user is allowed to make within a specified time limit and the maximum number of results to be returned. In this case, we are told that any request has a maximum of 50 results per request and defaults to 20. Furthermore, any search will be limited to a total of 1000 results. To retrieve all 1000 of these results, we would have to page through the results piece by piece, retrieving 50 at a time. Processes such as these are often referred to as pagination.\n",
    "\n",
    "In this lab, you will define a search and then paginate over the results to retrieve all of the results. You'll then parse these responses as a DataFrame (for further exploration) and create a map using Folium to visualize the results geographically.\n",
    "\n",
    "## Part I - Make the Initial Request\n",
    "\n",
    "Start by making an initial request to the Yelp API. Your search must include at least 2 parameters: **term** and **location**. For example, you might search for pizza restaurants in NYC. The term and location is up to you, but make the request below."
   ]
  },
  {
   "cell_type": "code",
   "execution_count": 1,
   "metadata": {},
   "outputs": [],
   "source": [
    "#Your code here\n",
    "import requests\n",
    "url = 'https://api.yelp.com/v3/businesses/search'\n",
    "api_key = ('y3WYgnbLiISycakTJ4pY8FE6IIg04naqC_C-8_IM1Diy0_r9Wxxz1dF-jF9SdKNxvE3V-Mjd9F_VdpajiuzfPXEoG9niixfbBX1_J1lc7E1pSzcAWA1KM_dFBCL5XHYx')\n",
    "header = {'Authorization': 'Bearer {}'.format(api_key)}\n",
    "url_params = {'location': '11225', 'term': 'kosher', 'offset': 0}\n",
    "resp = requests.get(url, headers=header, params=url_params)"
   ]
  },
  {
   "cell_type": "code",
   "execution_count": 2,
   "metadata": {},
   "outputs": [
    {
     "data": {
      "text/plain": [
       "<Response [200]>"
      ]
     },
     "execution_count": 2,
     "metadata": {},
     "output_type": "execute_result"
    }
   ],
   "source": [
    "resp"
   ]
  },
  {
   "cell_type": "code",
   "execution_count": 3,
   "metadata": {},
   "outputs": [
    {
     "data": {
      "text/plain": [
       "{'location': '11225', 'term': 'kosher', 'offset': 0}"
      ]
     },
     "execution_count": 3,
     "metadata": {},
     "output_type": "execute_result"
    }
   ],
   "source": [
    "url_params"
   ]
  },
  {
   "cell_type": "markdown",
   "metadata": {},
   "source": [
    "## Pagination\n",
    "\n",
    "Now that you have an initial response, you can examine the contents of the json container. For example, you might start with ```response.json().keys()```. Here, you'll see a key for `'total'`, which tells you the full number of matching results given your query parameters. Write a loop (or ideally a function) which then makes successive API calls using the offset parameter to retrieve all of the results (or 5000 for a particularly large result set) for the original query. As you do this, be mindful of how you store the data. Your final goal will be to reformat the data concerning the businesses themselves into a pandas DataFrame from the json objects.\n",
    "\n",
    "**Note: be mindful of the API rate limits. You can only make 5000 requests per day, and are also can make requests too fast. Start prototyping small before running a loop that could be faulty. You can also use time.sleep(n) to add delays. For more details see https://www.yelp.com/developers/documentation/v3/rate_limiting.**"
   ]
  },
  {
   "cell_type": "code",
   "execution_count": 4,
   "metadata": {},
   "outputs": [],
   "source": [
    "# Your code here; use a function or loop to retrieve all the results from your original request"
   ]
  },
  {
   "cell_type": "code",
   "execution_count": 5,
   "metadata": {},
   "outputs": [
    {
     "data": {
      "text/plain": [
       "dict_keys(['businesses', 'total', 'region'])"
      ]
     },
     "execution_count": 5,
     "metadata": {},
     "output_type": "execute_result"
    }
   ],
   "source": [
    "resp.json().keys()"
   ]
  },
  {
   "cell_type": "code",
   "execution_count": 6,
   "metadata": {},
   "outputs": [
    {
     "data": {
      "text/plain": [
       "68"
      ]
     },
     "execution_count": 6,
     "metadata": {},
     "output_type": "execute_result"
    }
   ],
   "source": [
    "resp.json()['total']"
   ]
  },
  {
   "cell_type": "code",
   "execution_count": 7,
   "metadata": {},
   "outputs": [
    {
     "data": {
      "text/plain": [
       "20"
      ]
     },
     "execution_count": 7,
     "metadata": {},
     "output_type": "execute_result"
    }
   ],
   "source": [
    "len(resp.json()['businesses'])"
   ]
  },
  {
   "cell_type": "code",
   "execution_count": 8,
   "metadata": {},
   "outputs": [
    {
     "data": {
      "text/plain": [
       "4"
      ]
     },
     "execution_count": 8,
     "metadata": {},
     "output_type": "execute_result"
    }
   ],
   "source": [
    "a = resp.json()['total']//20 +1\n",
    "a"
   ]
  },
  {
   "cell_type": "code",
   "execution_count": 9,
   "metadata": {},
   "outputs": [],
   "source": [
    "import pandas as pd"
   ]
  },
  {
   "cell_type": "code",
   "execution_count": 10,
   "metadata": {},
   "outputs": [],
   "source": [
    "jsondf = pd.DataFrame()\n",
    "for e in range(resp.json()['total']//20 +1):\n",
    "    url_params['offset'] = e*20\n",
    "    resp = requests.get(url, headers=header, params=url_params)\n",
    "    tempdf = pd.DataFrame(resp.json()['businesses'])\n",
    "    jsondf = pd.concat([jsondf, tempdf], axis=0)\n",
    "jsondf.reset_index(drop=True, inplace=True)"
   ]
  },
  {
   "cell_type": "code",
   "execution_count": 11,
   "metadata": {},
   "outputs": [
    {
     "data": {
      "text/plain": [
       "68"
      ]
     },
     "execution_count": 11,
     "metadata": {},
     "output_type": "execute_result"
    }
   ],
   "source": [
    "len(jsondf)"
   ]
  },
  {
   "cell_type": "code",
   "execution_count": 12,
   "metadata": {
    "scrolled": true
   },
   "outputs": [
    {
     "data": {
      "text/html": [
       "<div>\n",
       "<style scoped>\n",
       "    .dataframe tbody tr th:only-of-type {\n",
       "        vertical-align: middle;\n",
       "    }\n",
       "\n",
       "    .dataframe tbody tr th {\n",
       "        vertical-align: top;\n",
       "    }\n",
       "\n",
       "    .dataframe thead th {\n",
       "        text-align: right;\n",
       "    }\n",
       "</style>\n",
       "<table border=\"1\" class=\"dataframe\">\n",
       "  <thead>\n",
       "    <tr style=\"text-align: right;\">\n",
       "      <th></th>\n",
       "      <th>alias</th>\n",
       "      <th>categories</th>\n",
       "      <th>coordinates</th>\n",
       "      <th>display_phone</th>\n",
       "      <th>distance</th>\n",
       "      <th>id</th>\n",
       "      <th>image_url</th>\n",
       "      <th>is_closed</th>\n",
       "      <th>location</th>\n",
       "      <th>name</th>\n",
       "      <th>phone</th>\n",
       "      <th>price</th>\n",
       "      <th>rating</th>\n",
       "      <th>review_count</th>\n",
       "      <th>transactions</th>\n",
       "      <th>url</th>\n",
       "    </tr>\n",
       "  </thead>\n",
       "  <tbody>\n",
       "    <tr>\n",
       "      <th>0</th>\n",
       "      <td>brooklyn-artisan-bakehouse-and-cafe-brooklyn</td>\n",
       "      <td>[{'alias': 'cafes', 'title': 'Cafes'}, {'alias...</td>\n",
       "      <td>{'latitude': 40.6621475219727, 'longitude': -7...</td>\n",
       "      <td>(347) 292-1382</td>\n",
       "      <td>641.638977</td>\n",
       "      <td>dN17XjupSnAdIapJyXK_qg</td>\n",
       "      <td>https://s3-media2.fl.yelpcdn.com/bphoto/RoOQIp...</td>\n",
       "      <td>False</td>\n",
       "      <td>{'address1': '529 E New York Ave', 'address2':...</td>\n",
       "      <td>Brooklyn Artisan Bakehouse &amp; Cafe</td>\n",
       "      <td>+13472921382</td>\n",
       "      <td>$$</td>\n",
       "      <td>4.0</td>\n",
       "      <td>46</td>\n",
       "      <td>[delivery, pickup]</td>\n",
       "      <td>https://www.yelp.com/biz/brooklyn-artisan-bake...</td>\n",
       "    </tr>\n",
       "  </tbody>\n",
       "</table>\n",
       "</div>"
      ],
      "text/plain": [
       "                                          alias  \\\n",
       "0  brooklyn-artisan-bakehouse-and-cafe-brooklyn   \n",
       "\n",
       "                                          categories  \\\n",
       "0  [{'alias': 'cafes', 'title': 'Cafes'}, {'alias...   \n",
       "\n",
       "                                         coordinates   display_phone  \\\n",
       "0  {'latitude': 40.6621475219727, 'longitude': -7...  (347) 292-1382   \n",
       "\n",
       "     distance                      id  \\\n",
       "0  641.638977  dN17XjupSnAdIapJyXK_qg   \n",
       "\n",
       "                                           image_url  is_closed  \\\n",
       "0  https://s3-media2.fl.yelpcdn.com/bphoto/RoOQIp...      False   \n",
       "\n",
       "                                            location  \\\n",
       "0  {'address1': '529 E New York Ave', 'address2':...   \n",
       "\n",
       "                                name         phone price  rating  \\\n",
       "0  Brooklyn Artisan Bakehouse & Cafe  +13472921382    $$     4.0   \n",
       "\n",
       "   review_count        transactions  \\\n",
       "0            46  [delivery, pickup]   \n",
       "\n",
       "                                                 url  \n",
       "0  https://www.yelp.com/biz/brooklyn-artisan-bake...  "
      ]
     },
     "execution_count": 12,
     "metadata": {},
     "output_type": "execute_result"
    }
   ],
   "source": [
    "jsondf.head(1)"
   ]
  },
  {
   "cell_type": "code",
   "execution_count": 13,
   "metadata": {},
   "outputs": [
    {
     "data": {
      "text/plain": [
       "Index(['alias', 'categories', 'coordinates', 'display_phone', 'distance', 'id',\n",
       "       'image_url', 'is_closed', 'location', 'name', 'phone', 'price',\n",
       "       'rating', 'review_count', 'transactions', 'url'],\n",
       "      dtype='object')"
      ]
     },
     "execution_count": 13,
     "metadata": {},
     "output_type": "execute_result"
    }
   ],
   "source": [
    "jsondf.columns"
   ]
  },
  {
   "cell_type": "markdown",
   "metadata": {},
   "source": [
    "## Exploratory Analysis\n",
    "\n",
    "Take the restaurants from the previous question and do an initial exploratory analysis. At minimum, this should include looking at the distribution of features such as price, rating and number of reviews as well as the relations between these dimensions."
   ]
  },
  {
   "cell_type": "code",
   "execution_count": 14,
   "metadata": {},
   "outputs": [
    {
     "data": {
      "text/plain": [
       "$$      37\n",
       "$       15\n",
       "$$$      6\n",
       "$$$$     1\n",
       "Name: price, dtype: int64"
      ]
     },
     "execution_count": 14,
     "metadata": {},
     "output_type": "execute_result"
    }
   ],
   "source": [
    "#Your code here\n",
    "jsondf['price'].value_counts()"
   ]
  },
  {
   "cell_type": "code",
   "execution_count": 15,
   "metadata": {},
   "outputs": [
    {
     "data": {
      "text/html": [
       "<div>\n",
       "<style scoped>\n",
       "    .dataframe tbody tr th:only-of-type {\n",
       "        vertical-align: middle;\n",
       "    }\n",
       "\n",
       "    .dataframe tbody tr th {\n",
       "        vertical-align: top;\n",
       "    }\n",
       "\n",
       "    .dataframe thead th {\n",
       "        text-align: right;\n",
       "    }\n",
       "</style>\n",
       "<table border=\"1\" class=\"dataframe\">\n",
       "  <thead>\n",
       "    <tr style=\"text-align: right;\">\n",
       "      <th></th>\n",
       "      <th>alias</th>\n",
       "      <th>categories</th>\n",
       "      <th>coordinates</th>\n",
       "      <th>display_phone</th>\n",
       "      <th>distance</th>\n",
       "      <th>id</th>\n",
       "      <th>image_url</th>\n",
       "      <th>is_closed</th>\n",
       "      <th>location</th>\n",
       "      <th>name</th>\n",
       "      <th>phone</th>\n",
       "      <th>price</th>\n",
       "      <th>rating</th>\n",
       "      <th>review_count</th>\n",
       "      <th>transactions</th>\n",
       "      <th>url</th>\n",
       "    </tr>\n",
       "  </thead>\n",
       "  <tbody>\n",
       "    <tr>\n",
       "      <th>1</th>\n",
       "      <td>alenbi-brooklyn</td>\n",
       "      <td>[{'alias': 'mideastern', 'title': 'Middle East...</td>\n",
       "      <td>{'latitude': 40.666413, 'longitude': -73.9506115}</td>\n",
       "      <td>(347) 529-3739</td>\n",
       "      <td>395.050372</td>\n",
       "      <td>AdZ13ZEVD7t2h8PaEIbTbQ</td>\n",
       "      <td>https://s3-media2.fl.yelpcdn.com/bphoto/OKsID8...</td>\n",
       "      <td>False</td>\n",
       "      <td>{'address1': '887 Nostrand Ave', 'address2': '...</td>\n",
       "      <td>ALENbi</td>\n",
       "      <td>+13475293739</td>\n",
       "      <td>$$$$</td>\n",
       "      <td>3.5</td>\n",
       "      <td>43</td>\n",
       "      <td>[]</td>\n",
       "      <td>https://www.yelp.com/biz/alenbi-brooklyn?adjus...</td>\n",
       "    </tr>\n",
       "  </tbody>\n",
       "</table>\n",
       "</div>"
      ],
      "text/plain": [
       "             alias                                         categories  \\\n",
       "1  alenbi-brooklyn  [{'alias': 'mideastern', 'title': 'Middle East...   \n",
       "\n",
       "                                         coordinates   display_phone  \\\n",
       "1  {'latitude': 40.666413, 'longitude': -73.9506115}  (347) 529-3739   \n",
       "\n",
       "     distance                      id  \\\n",
       "1  395.050372  AdZ13ZEVD7t2h8PaEIbTbQ   \n",
       "\n",
       "                                           image_url  is_closed  \\\n",
       "1  https://s3-media2.fl.yelpcdn.com/bphoto/OKsID8...      False   \n",
       "\n",
       "                                            location    name         phone  \\\n",
       "1  {'address1': '887 Nostrand Ave', 'address2': '...  ALENbi  +13475293739   \n",
       "\n",
       "  price  rating  review_count transactions  \\\n",
       "1  $$$$     3.5            43           []   \n",
       "\n",
       "                                                 url  \n",
       "1  https://www.yelp.com/biz/alenbi-brooklyn?adjus...  "
      ]
     },
     "execution_count": 15,
     "metadata": {},
     "output_type": "execute_result"
    }
   ],
   "source": [
    "jsondf.loc[jsondf['price'] == '$$$$']"
   ]
  },
  {
   "cell_type": "code",
   "execution_count": 16,
   "metadata": {},
   "outputs": [
    {
     "data": {
      "image/png": "[encoded data removed]",
      "text/plain": [
       "<Figure size 432x288 with 9 Axes>"
      ]
     },
     "metadata": {
      "needs_background": "light"
     },
     "output_type": "display_data"
    }
   ],
   "source": [
    "\n",
    "import matplotlib.pyplot as plt\n",
    "%matplotlib inline\n",
    "\n",
    "jsondf.price =jsondf.price.fillna(value=0)\n",
    "price_dict = {\"$\": 1, \"$$\":2, \"$$$\": 3, \"$$$$\":4}\n",
    "jsondf.price = jsondf.price.map(price_dict)\n",
    "\n",
    "pd.plotting.scatter_matrix(jsondf[['price', 'rating', 'review_count']]);"
   ]
  },
  {
   "cell_type": "markdown",
   "metadata": {},
   "source": [
    "## Mapping\n",
    "\n",
    "Look at the initial Yelp example and try and make a map using Folium of the restaurants you retrieved. Be sure to also add popups to the markers giving some basic information such as name, rating and price."
   ]
  },
  {
   "cell_type": "code",
   "execution_count": 17,
   "metadata": {},
   "outputs": [],
   "source": [
    "import folium"
   ]
  },
  {
   "cell_type": "code",
   "execution_count": 18,
   "metadata": {},
   "outputs": [],
   "source": [
    "lat = 40.664312\n",
    "long = -73.945281"
   ]
  },
  {
   "cell_type": "code",
   "execution_count": 19,
   "metadata": {
    "scrolled": true
   },
   "outputs": [
    {
     "data": {
      "text/html": [
       "<div style=\"width:100%;\"><div style=\"position:relative;width:100%;height:0;padding-bottom:60%;\"><iframe src=\"data:text/html;charset=utf-8;base64,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\" style=\"position:absolute;width:100%;height:100%;left:0;top:0;border:none !important;\" allowfullscreen webkitallowfullscreen mozallowfullscreen></iframe></div></div>"
      ],
      "text/plain": [
       "<folium.folium.Map at 0x1c22ef3f080>"
      ]
     },
     "execution_count": 19,
     "metadata": {},
     "output_type": "execute_result"
    }
   ],
   "source": [
    "basemap = folium.Map([lat,long], zoom_start=13)\n",
    "basemap"
   ]
  },
  {
   "cell_type": "code",
   "execution_count": 20,
   "metadata": {},
   "outputs": [
    {
     "data": {
      "text/html": [
       "<div style=\"width:100%;\"><div style=\"position:relative;width:100%;height:0;padding-bottom:60%;\"><iframe src=\"data:text/html;charset=utf-8;base64,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\" style=\"position:absolute;width:100%;height:100%;left:0;top:0;border:none !important;\" allowfullscreen webkitallowfullscreen mozallowfullscreen></iframe></div></div>"
      ],
      "text/plain": [
       "<folium.folium.Map at 0x1c22ef3f080>"
      ]
     },
     "execution_count": 20,
     "metadata": {},
     "output_type": "execute_result"
    }
   ],
   "source": [
    "for index, value in jsondf.iterrows():\n",
    "    lat = value['coordinates']['latitude']\n",
    "    long = value['coordinates']['longitude']\n",
    "    popup_text = value['name']\n",
    "    popup = folium.Popup(popup_text, parse_html=True)\n",
    "    marker = folium.Marker(location=[lat, long], popup=popup)\n",
    "    marker.add_to(basemap)\n",
    "basemap"
   ]
  },
  {
   "cell_type": "code",
   "execution_count": null,
   "metadata": {},
   "outputs": [],
   "source": []
  },
  {
   "cell_type": "code",
   "execution_count": null,
   "metadata": {},
   "outputs": [],
   "source": []
  },
  {
   "cell_type": "code",
   "execution_count": 21,
   "metadata": {},
   "outputs": [],
   "source": [
    "#Your code here"
   ]
  },
  {
   "cell_type": "markdown",
   "metadata": {},
   "source": [
    "## Summary\n",
    "\n",
    "Nice work! In this lab, you synthesized your skills for the day, making multiple API calls to Yelp in order to paginate through a results set, performing some basic exploratory analysis and then creating a nice map visual to display the results! Well done!"
   ]
  }
 ],
 "metadata": {
  "kernelspec": {
   "display_name": "Python 3",
   "language": "python",
   "name": "python3"
  },
  "language_info": {
   "codemirror_mode": {
    "name": "ipython",
    "version": 3
   },
   "file_extension": ".py",
   "mimetype": "text/x-python",
   "name": "python",
   "nbconvert_exporter": "python",
   "pygments_lexer": "ipython3",
   "version": "3.6.6"
  }
 },
 "nbformat": 4,
 "nbformat_minor": 2
}
